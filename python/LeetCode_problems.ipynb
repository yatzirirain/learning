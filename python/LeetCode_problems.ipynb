{
 "cells": [
  {
   "cell_type": "code",
   "execution_count": 9,
   "metadata": {},
   "outputs": [],
   "source": [
    "from scipy.special import binom"
   ]
  },
  {
   "cell_type": "code",
   "execution_count": 21,
   "metadata": {},
   "outputs": [],
   "source": [
    "numRows = 5\n",
    "triangle = []"
   ]
  },
  {
   "cell_type": "code",
   "execution_count": 22,
   "metadata": {},
   "outputs": [
    {
     "name": "stdout",
     "output_type": "stream",
     "text": [
      "0\n",
      "n=0, k=0\n",
      "[1]\n",
      "1\n",
      "n=1, k=0\n",
      "n=1, k=1\n",
      "[1, 1]\n",
      "2\n",
      "n=2, k=0\n",
      "n=2, k=1\n",
      "n=2, k=2\n",
      "[1, 2, 1]\n",
      "3\n",
      "n=3, k=0\n",
      "n=3, k=1\n",
      "n=3, k=2\n",
      "n=3, k=3\n",
      "[1, 3, 3, 1]\n",
      "4\n",
      "n=4, k=0\n",
      "n=4, k=1\n",
      "n=4, k=2\n",
      "n=4, k=3\n",
      "n=4, k=4\n",
      "[1, 4, 6, 4, 1]\n",
      "[[1], [1, 1], [1, 2, 1], [1, 3, 3, 1], [1, 4, 6, 4, 1]]\n"
     ]
    }
   ],
   "source": [
    "for n in range(numRows):\n",
    "    print(n)\n",
    "    row = []\n",
    "    for k in range(n+1):\n",
    "        print(f\"n={n}, k={k}\")\n",
    "        row.append(int(binom(n,k)))\n",
    "    triangle.append(row)\n",
    "    print(row)\n",
    "\n",
    "print(triangle)"
   ]
  },
  {
   "cell_type": "code",
   "execution_count": null,
   "metadata": {},
   "outputs": [],
   "source": [
    "from scipy.special import binom\n",
    "\n",
    "triangle = []\n",
    "\n",
    "for n in range(numRows):\n",
    "    row = []\n",
    "    for k in range(n+1):\n",
    "        row.append(int(binom(n,k)))\n",
    "    triangle.append(row)\n"
   ]
  },
  {
   "cell_type": "markdown",
   "metadata": {},
   "source": [
    "### 2561. Rearranging Fruits\n",
    "<span style=\"color:IndianRed\">\n",
    "HARD\n",
    "</span>\n",
    "\n",
    "You have two fruit baskets containing n fruits each. You are given two 0-indexed integer arrays `basket1` and `basket2` representing the cost of fruit in each basket. You want to make both baskets equal. To do so, you can use the following operation as many times as you want:\n",
    "\n",
    "Chose two indices `i` and `j`, and swap the ith fruit of basket1 with the jth fruit of basket2.\n",
    "The cost of the swap is `min(basket1[i],basket2[j])`.\n",
    "Two baskets are considered equal if sorting them according to the fruit cost makes them exactly the same baskets.\n",
    "\n",
    "Return the minimum cost to make both the baskets equal or -1 if impossible.\n",
    "\n",
    " \n",
    "\n",
    "**Example 1:**\n",
    "\n",
    ">**Input:** basket1 = [4,2,2,2], basket2 = [1,4,1,2]\n",
    ">\n",
    ">**Output:** 1\n",
    ">\n",
    ">**Explanation:** Swap index 1 of basket1 with index 0 of basket2, which has cost 1. Now basket1 = [4,1,2,2] and basket2 = [2,4,1,2]. Rearranging both the arrays makes them equal.\n",
    "\n",
    "**Example 2:**\n",
    "\n",
    "Input: basket1 = [2,3,4,1], basket2 = [3,2,5,1]\n",
    "Output: -1\n",
    "Explanation: It can be shown that it is impossible to make both the baskets equal.\n",
    " \n",
    "\n",
    "Constraints:\n",
    "\n",
    "basket1.length == basket2.length\n",
    "1 <= basket1.length <= 105\n",
    "1 <= basket1[i],basket2[i] <= 109"
   ]
  },
  {
   "cell_type": "code",
   "execution_count": 23,
   "metadata": {},
   "outputs": [],
   "source": [
    "basket1 = [4, 2, 2, 2]\n",
    "basket2 = [1, 4, 1, 2]"
   ]
  },
  {
   "cell_type": "code",
   "execution_count": 42,
   "metadata": {},
   "outputs": [
    {
     "name": "stdout",
     "output_type": "stream",
     "text": [
      "[4, 2, 2, 2, 1, 4, 1, 2]\n"
     ]
    }
   ],
   "source": [
    "all_fruits = basket1 + basket2\n",
    "\n",
    "print(all_fruits)\n"
   ]
  },
  {
   "cell_type": "code",
   "execution_count": 50,
   "metadata": {},
   "outputs": [
    {
     "name": "stdout",
     "output_type": "stream",
     "text": [
      "1 2\n",
      "2 4\n",
      "4 2\n"
     ]
    }
   ],
   "source": [
    "for fruit in set(all_fruits):\n",
    "    print(fruit,all_fruits.count(fruit))"
   ]
  },
  {
   "cell_type": "code",
   "execution_count": 45,
   "metadata": {},
   "outputs": [],
   "source": [
    "output = 0"
   ]
  },
  {
   "cell_type": "code",
   "execution_count": 48,
   "metadata": {},
   "outputs": [
    {
     "name": "stdout",
     "output_type": "stream",
     "text": [
      "1\n"
     ]
    }
   ],
   "source": [
    "for fruit in set(all_fruits):\n",
    "    if all_fruits.count(fruit) % 2 == 1:\n",
    "        output = -1\n",
    "        break\n",
    "    else: \n",
    "        output = 1\n",
    "\n",
    "print(output)"
   ]
  },
  {
   "cell_type": "code",
   "execution_count": null,
   "metadata": {},
   "outputs": [],
   "source": [
    "from collections import Counter\n",
    "\n",
    "def minCostToEqualize(basket1, basket2):\n",
    "    n = len(basket1)\n",
    "    c1, c2 = Counter(basket1), Counter(basket2)\n",
    "    extras1, extras2 = [], []\n",
    "    for v in set(c1) | set(c2):\n",
    "        total = c1[v] + c2[v]\n",
    "        if total & 1:\n",
    "            return -1\n",
    "        diff = c1[v] - c2[v]\n",
    "        if diff > 0:\n",
    "            extras1 += [v] * (diff // 2)\n",
    "        elif diff < 0:\n",
    "            extras2 += [v] * ((-diff) // 2)\n",
    "    if not extras1:\n",
    "        return 0\n",
    "\n",
    "    extras1.sort()\n",
    "    extras2.sort(reverse=True)\n",
    "\n",
    "    g = min(min(basket1), min(basket2))\n",
    "\n",
    "    cost = 0\n",
    "    for x, y in zip(extras1, extras2):\n",
    "        direct = min(x, y)\n",
    "        via_g  = 2 * g\n",
    "        cost += min(direct, via_g)\n",
    "\n",
    "    return cost\n",
    "\n"
   ]
  }
 ],
 "metadata": {
  "kernelspec": {
   "display_name": "Python 3",
   "language": "python",
   "name": "python3"
  },
  "language_info": {
   "codemirror_mode": {
    "name": "ipython",
    "version": 3
   },
   "file_extension": ".py",
   "mimetype": "text/x-python",
   "name": "python",
   "nbconvert_exporter": "python",
   "pygments_lexer": "ipython3",
   "version": "3.9.6"
  }
 },
 "nbformat": 4,
 "nbformat_minor": 2
}
